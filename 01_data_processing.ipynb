{
 "cells": [
  {
   "cell_type": "markdown",
   "id": "98b0e02d",
   "metadata": {},
   "source": [
    "[![Open In Studio Lab](https://studiolab.sagemaker.aws/studiolab.svg)](https://studiolab.sagemaker.aws/import/github/tcapelle/aws_smsl_demo/blob/main/01_data_processing.ipynb)"
   ]
  },
  {
   "cell_type": "code",
   "execution_count": 1,
   "id": "a854bbf5-b089-4f8d-8bc0-a956c2f057bd",
   "metadata": {},
   "outputs": [],
   "source": [
    "import wandb\n",
    "from fastai.vision.all import *"
   ]
  },
  {
   "cell_type": "code",
   "execution_count": 2,
   "id": "41d8bc4b-fbad-4d44-9154-095540469967",
   "metadata": {},
   "outputs": [],
   "source": [
    "path = untar_data(URLs.CAMVID)\n",
    "codes = np.loadtxt(path/'codes.txt', dtype=str)\n",
    "fnames = get_image_files(path/\"images\")\n",
    "class_labels = {k: v for k, v in enumerate(codes)}"
   ]
  },
  {
   "cell_type": "code",
   "execution_count": 3,
   "id": "636021ef-51af-4354-a119-94d575e10070",
   "metadata": {},
   "outputs": [],
   "source": [
    "PROJECT=\"CamVid\"\n",
    "ENTITY=\"av-demo\"\n",
    "ARTIFACT_ID = \"av-demo/CamVid/camvid-dataset:latest\""
   ]
  },
  {
   "cell_type": "code",
   "execution_count": 4,
   "id": "be5f0760-cce7-4cfc-96ce-7bc64f2a5614",
   "metadata": {},
   "outputs": [
    {
     "name": "stderr",
     "output_type": "stream",
     "text": [
      "Failed to detect the name of this notebook, you can set it manually with the WANDB_NOTEBOOK_NAME environment variable to enable code saving.\n",
      "\u001b[34m\u001b[1mwandb\u001b[0m: Currently logged in as: \u001b[33mcapecape\u001b[0m (use `wandb login --relogin` to force relogin)\n",
      "\u001b[34m\u001b[1mwandb\u001b[0m: wandb version 0.12.10 is available!  To upgrade, please run:\n",
      "\u001b[34m\u001b[1mwandb\u001b[0m:  $ pip install wandb --upgrade\n"
     ]
    },
    {
     "data": {
      "text/html": [
       "\n",
       "                    Syncing run <strong><a href=\"https://wandb.ai/av-demo/CamVid/runs/3pybnpo5\" target=\"_blank\">upload_camvid_final</a></strong> to <a href=\"https://wandb.ai/av-demo/CamVid\" target=\"_blank\">Weights & Biases</a> (<a href=\"https://docs.wandb.com/integrations/jupyter.html\" target=\"_blank\">docs</a>).<br/>\n",
       "\n",
       "                "
      ],
      "text/plain": [
       "<IPython.core.display.HTML object>"
      ]
     },
     "metadata": {},
     "output_type": "display_data"
    },
    {
     "name": "stderr",
     "output_type": "stream",
     "text": [
      "\u001b[34m\u001b[1mwandb\u001b[0m: Adding directory to artifact (/home/paperspace/.fastai/data/camvid)... Done. 3.5s\n"
     ]
    },
    {
     "data": {
      "text/html": [
       "<br/>Waiting for W&B process to finish, PID 2647... <strong style=\"color:green\">(success).</strong>"
      ],
      "text/plain": [
       "<IPython.core.display.HTML object>"
      ]
     },
     "metadata": {},
     "output_type": "display_data"
    },
    {
     "data": {
      "application/vnd.jupyter.widget-view+json": {
       "model_id": "",
       "version_major": 2,
       "version_minor": 0
      },
      "text/plain": [
       "VBox(children=(Label(value=' 0.00MB of 0.00MB uploaded (0.00MB deduped)\\r'), FloatProgress(value=1.0, max=1.0)…"
      ]
     },
     "metadata": {},
     "output_type": "display_data"
    },
    {
     "data": {
      "text/html": [
       "<style>\n",
       "    table.wandb td:nth-child(1) { padding: 0 10px; text-align: right }\n",
       "    .wandb-row { display: flex; flex-direction: row; flex-wrap: wrap; width: 100% }\n",
       "    .wandb-col { display: flex; flex-direction: column; flex-basis: 100%; flex: 1; padding: 10px; }\n",
       "    </style>\n",
       "<div class=\"wandb-row\"><div class=\"wandb-col\">\n",
       "</div><div class=\"wandb-col\">\n",
       "</div></div>\n",
       "Synced 6 W&B file(s), 0 media file(s), 0 artifact file(s) and 0 other file(s)\n",
       "<br/>Synced <strong style=\"color:#cdcd00\">upload_camvid_final</strong>: <a href=\"https://wandb.ai/av-demo/CamVid/runs/3pybnpo5\" target=\"_blank\">https://wandb.ai/av-demo/CamVid/runs/3pybnpo5</a><br/>\n",
       "Find logs at: <code>./wandb/run-20220225_170243-3pybnpo5/logs</code><br/>\n"
      ],
      "text/plain": [
       "<IPython.core.display.HTML object>"
      ]
     },
     "metadata": {},
     "output_type": "display_data"
    }
   ],
   "source": [
    "with wandb.init(\n",
    "    project=PROJECT,\n",
    "    name=\"upload_camvid_final\",\n",
    "    entity=ENTITY,\n",
    "    job_type=\"upload\",\n",
    "):\n",
    "    artifact = wandb.Artifact(\n",
    "        'camvid-dataset',\n",
    "        type='dataset',\n",
    "        metadata={\n",
    "            \"url\": URLs.CAMVID,\n",
    "            \"class_labels\": class_labels\n",
    "        },\n",
    "        description=\"The Cambridge-driving Labeled Video Database (CamVid) is the first collection of videos with object class semantic labels, complete with metadata. The database provides ground truth labels that associate each pixel with one of 32 semantic classes.\"\n",
    "    )\n",
    "    artifact.add_dir(path)\n",
    "    wandb.log_artifact(artifact)"
   ]
  },
  {
   "cell_type": "code",
   "execution_count": 5,
   "id": "5433c202-f483-423c-8bb4-f139244a54f9",
   "metadata": {},
   "outputs": [],
   "source": [
    "def label_func(fn):\n",
    "    return fn.parent.parent/\"labels\"/f\"{fn.stem}_P{fn.suffix}\""
   ]
  },
  {
   "cell_type": "code",
   "execution_count": 6,
   "id": "6ac2a270-17bd-48fe-a054-bfa13a34fa71",
   "metadata": {},
   "outputs": [],
   "source": [
    "def get_frequency_distribution(mask_data):\n",
    "    (unique, counts) = np.unique(mask_data, return_counts=True)\n",
    "    unique = list(unique)\n",
    "    counts = list(counts)\n",
    "    frequency_dict = {}\n",
    "    for _class in class_labels.keys():\n",
    "        if _class in unique:\n",
    "            frequency_dict[class_labels[_class]] = counts[unique.index(_class)]\n",
    "        else:\n",
    "            frequency_dict[class_labels[_class]] = 0\n",
    "    return frequency_dict"
   ]
  },
  {
   "cell_type": "code",
   "execution_count": 7,
   "id": "d65adc34-9a16-4bf0-8628-4faac9f55c20",
   "metadata": {},
   "outputs": [],
   "source": [
    "def log_dataset():\n",
    "    with wandb.init(\n",
    "        project=PROJECT,\n",
    "        name=\"visualize_camvid\",\n",
    "        entity=ENTITY,\n",
    "        job_type=\"data_viz\"\n",
    "    ):\n",
    "        artifact = wandb.use_artifact(ARTIFACT_ID, type='dataset')\n",
    "        artifact_dir = artifact.download()\n",
    "        \n",
    "        table_data = []\n",
    "        image_files = get_image_files(Path(artifact_dir)/\"images\")\n",
    "        labels = [str(class_labels[_lab]) for _lab in list(class_labels)]\n",
    "        \n",
    "        print(\"Creating Table...\")\n",
    "        for image_file in progress_bar(image_files):\n",
    "            image = np.array(Image.open(image_file))\n",
    "            mask_data = np.array(Image.open(label_func(image_file)))\n",
    "            frequency_distribution = get_frequency_distribution(mask_data)\n",
    "            table_data.append(\n",
    "                [\n",
    "                    str(image_file.name),\n",
    "                    wandb.Image(image),\n",
    "                    wandb.Image(image, masks={\n",
    "                        \"predictions\": {\n",
    "                            \"mask_data\": mask_data,\n",
    "                            \"class_labels\": class_labels\n",
    "                        }\n",
    "                    })\n",
    "                ] + [\n",
    "                    frequency_distribution[_lab] for _lab in labels\n",
    "                ]\n",
    "            )\n",
    "        wandb.log({\n",
    "            \"CamVid_Dataset\": wandb.Table(\n",
    "                data=table_data,\n",
    "                columns=[\"File_Name\", \"Images\", \"Segmentation_Masks\"] + labels\n",
    "            )\n",
    "        })"
   ]
  },
  {
   "cell_type": "code",
   "execution_count": 8,
   "id": "a96e61ad-dd9a-4f8c-93fb-469966f68c77",
   "metadata": {},
   "outputs": [
    {
     "name": "stderr",
     "output_type": "stream",
     "text": [
      "\u001b[34m\u001b[1mwandb\u001b[0m: wandb version 0.12.10 is available!  To upgrade, please run:\n",
      "\u001b[34m\u001b[1mwandb\u001b[0m:  $ pip install wandb --upgrade\n"
     ]
    },
    {
     "data": {
      "text/html": [
       "\n",
       "                    Syncing run <strong><a href=\"https://wandb.ai/av-demo/CamVid/runs/2s66swsc\" target=\"_blank\">visualize_camvid</a></strong> to <a href=\"https://wandb.ai/av-demo/CamVid\" target=\"_blank\">Weights & Biases</a> (<a href=\"https://docs.wandb.com/integrations/jupyter.html\" target=\"_blank\">docs</a>).<br/>\n",
       "\n",
       "                "
      ],
      "text/plain": [
       "<IPython.core.display.HTML object>"
      ]
     },
     "metadata": {},
     "output_type": "display_data"
    },
    {
     "name": "stderr",
     "output_type": "stream",
     "text": [
      "\u001b[34m\u001b[1mwandb\u001b[0m: Downloading large artifact camvid-dataset:latest, 1210.65MB. 1409 files... Done. 0:0:0\n"
     ]
    },
    {
     "name": "stdout",
     "output_type": "stream",
     "text": [
      "Creating Table...\n"
     ]
    },
    {
     "data": {
      "text/html": [
       "\n",
       "    <div>\n",
       "        <style>\n",
       "            /* Turns off some styling */\n",
       "            progress {\n",
       "                /* gets rid of default border in Firefox and Opera. */\n",
       "                border: none;\n",
       "                /* Needs to be in here for Safari polyfill so background images work as expected. */\n",
       "                background-size: auto;\n",
       "            }\n",
       "            .progress-bar-interrupted, .progress-bar-interrupted::-webkit-progress-bar {\n",
       "                background: #F44336;\n",
       "            }\n",
       "        </style>\n",
       "      <progress value='701' class='' max='701' style='width:300px; height:20px; vertical-align: middle;'></progress>\n",
       "      100.00% [701/701 05:11<00:00]\n",
       "    </div>\n",
       "    "
      ],
      "text/plain": [
       "<IPython.core.display.HTML object>"
      ]
     },
     "metadata": {},
     "output_type": "display_data"
    },
    {
     "data": {
      "text/html": [
       "<br/>Waiting for W&B process to finish, PID 2693... <strong style=\"color:green\">(success).</strong>"
      ],
      "text/plain": [
       "<IPython.core.display.HTML object>"
      ]
     },
     "metadata": {},
     "output_type": "display_data"
    },
    {
     "data": {
      "application/vnd.jupyter.widget-view+json": {
       "model_id": "",
       "version_major": 2,
       "version_minor": 0
      },
      "text/plain": [
       "VBox(children=(Label(value=' 570.27MB of 570.27MB uploaded (0.00MB deduped)\\r'), FloatProgress(value=1.0, max=…"
      ]
     },
     "metadata": {},
     "output_type": "display_data"
    },
    {
     "data": {
      "text/html": [
       "<style>\n",
       "    table.wandb td:nth-child(1) { padding: 0 10px; text-align: right }\n",
       "    .wandb-row { display: flex; flex-direction: row; flex-wrap: wrap; width: 100% }\n",
       "    .wandb-col { display: flex; flex-direction: column; flex-basis: 100%; flex: 1; padding: 10px; }\n",
       "    </style>\n",
       "<div class=\"wandb-row\"><div class=\"wandb-col\">\n",
       "</div><div class=\"wandb-col\">\n",
       "</div></div>\n",
       "Synced 6 W&B file(s), 1 media file(s), 1404 artifact file(s) and 0 other file(s)\n",
       "<br/>Synced <strong style=\"color:#cdcd00\">visualize_camvid</strong>: <a href=\"https://wandb.ai/av-demo/CamVid/runs/2s66swsc\" target=\"_blank\">https://wandb.ai/av-demo/CamVid/runs/2s66swsc</a><br/>\n",
       "Find logs at: <code>./wandb/run-20220225_170253-2s66swsc/logs</code><br/>\n"
      ],
      "text/plain": [
       "<IPython.core.display.HTML object>"
      ]
     },
     "metadata": {},
     "output_type": "display_data"
    }
   ],
   "source": [
    "log_dataset()"
   ]
  },
  {
   "cell_type": "code",
   "execution_count": null,
   "id": "4ba8b5cf-05c4-4223-83dc-a50749be6dd4",
   "metadata": {},
   "outputs": [],
   "source": []
  }
 ],
 "metadata": {
  "kernelspec": {
   "display_name": "Python 3 (ipykernel)",
   "language": "python",
   "name": "python3"
  },
  "language_info": {
   "codemirror_mode": {
    "name": "ipython",
    "version": 3
   },
   "file_extension": ".py",
   "mimetype": "text/x-python",
   "name": "python",
   "nbconvert_exporter": "python",
   "pygments_lexer": "ipython3",
   "version": "3.9.9"
  }
 },
 "nbformat": 4,
 "nbformat_minor": 5
}
