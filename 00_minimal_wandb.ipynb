{
 "cells": [
  {
   "cell_type": "markdown",
   "id": "37ea549a",
   "metadata": {},
   "source": [
    "# Getting started in 60 seconds!"
   ]
  },
  {
   "cell_type": "code",
   "execution_count": null,
   "id": "7aa4863a",
   "metadata": {},
   "outputs": [],
   "source": [
    "!pip install -Uq wandb"
   ]
  },
  {
   "cell_type": "code",
   "execution_count": null,
   "id": "1aa6fec4",
   "metadata": {},
   "outputs": [],
   "source": [
    "import wandb\n",
    "import numpy as np"
   ]
  },
  {
   "cell_type": "code",
   "execution_count": null,
   "id": "0b4ef8bc",
   "metadata": {},
   "outputs": [],
   "source": [
    "%%wandb -h 600\n",
    "with wandb.init(project=\"this_was_easy\") as run:\n",
    "    for i in range(10_000):\n",
    "        wandb.log({\n",
    "            \"cool_metric\": np.random.uniform() * i,\n",
    "            \"amazing_metric\": np.sin(i) * np.random.normal()*i\n",
    "        })"
   ]
  },
  {
   "cell_type": "code",
   "execution_count": null,
   "id": "c0b5cee3",
   "metadata": {},
   "outputs": [],
   "source": []
  }
 ],
 "metadata": {
  "kernelspec": {
   "display_name": "Python 3 (ipykernel)",
   "language": "python",
   "name": "python3"
  },
  "language_info": {
   "codemirror_mode": {
    "name": "ipython",
    "version": 3
   },
   "file_extension": ".py",
   "mimetype": "text/x-python",
   "name": "python",
   "nbconvert_exporter": "python",
   "pygments_lexer": "ipython3",
   "version": "3.10.6"
  }
 },
 "nbformat": 4,
 "nbformat_minor": 5
}
